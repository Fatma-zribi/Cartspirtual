{
  "nbformat": 4,
  "nbformat_minor": 0,
  "metadata": {
    "colab": {
      "name": "Activité 2-Part2",
      "provenance": [],
      "authorship_tag": "ABX9TyPdODSZBoL2QKLYckQCPY2l",
      "include_colab_link": true
    },
    "kernelspec": {
      "name": "python3",
      "display_name": "Python 3"
    },
    "language_info": {
      "name": "python"
    }
  },
  "cells": [
    {
      "cell_type": "markdown",
      "metadata": {
        "id": "view-in-github",
        "colab_type": "text"
      },
      "source": [
        "<a href=\"https://colab.research.google.com/github/Fatma-zribi/Cartspirtual/blob/master/Activit%C3%A9_2_Part2.ipynb\" target=\"_parent\"><img src=\"https://colab.research.google.com/assets/colab-badge.svg\" alt=\"Open In Colab\"/></a>"
      ]
    },
    {
      "cell_type": "code",
      "execution_count": 3,
      "metadata": {
        "colab": {
          "base_uri": "https://localhost:8080/",
          "height": 328
        },
        "id": "YAZyTb_5Dc15",
        "outputId": "dcd51849-3481-4c66-f1fa-424d1d9d5c9e"
      },
      "outputs": [
        {
          "output_type": "stream",
          "name": "stdout",
          "text": [
            "[[0.84482511]]\n",
            "[0.80582311]\n"
          ]
        },
        {
          "output_type": "display_data",
          "data": {
            "text/plain": [
              "<Figure size 432x288 with 1 Axes>"
            ],
            "image/png": "[encoded data removed]"
          },
          "metadata": {
            "needs_background": "light"
          }
        }
      ],
      "source": [
        "from sklearn import linear_model\n",
        "import matplotlib.pyplot as plt\n",
        "import numpy as np\n",
        "import random\n",
        "# Step 1: training data\n",
        "X = [i for i in range(10)]\n",
        "Y = [random.gauss(x,0.75) for x in X]\n",
        "X = np.asarray(X)\n",
        "Y = np.asarray(Y)\n",
        "X = X[:,np.newaxis]\n",
        "Y = Y[:,np.newaxis]\n",
        "#plt.scatter(X,Y)\n",
        "# Step 2: define and train a model\n",
        "model = linear_model.LinearRegression()\n",
        "model.fit(X, Y)\n",
        "print(model.coef_)\n",
        "print(model.intercept_)\n",
        "# Step 3: prediction\n",
        "x_new_min = 0.0\n",
        "x_new_max = 10.0\n",
        "X_NEW = np.linspace(x_new_min, x_new_max, 100)\n",
        "X_NEW = X_NEW[:,np.newaxis]\n",
        "Y_NEW = model.predict(X_NEW)\n",
        "plt.plot(X_NEW, Y_NEW, color='coral', linewidth=3)\n",
        "#plt.grid()\n",
        "plt.xlim(x_new_min,x_new_max)\n",
        "plt.ylim(0,20)\n",
        "plt.title(\"Simple Linear Regression using scikit-learn and python 3\",fontsize=10)\n",
        "plt.xlabel('Abscise')\n",
        "plt.ylabel(\"Ordonnée\")\n",
        "#plt.savefig(\"simple_linear_regression.png\", bbox_inches='tight')\n",
        "plt.show()\n"
      ]
    }
  ]
}