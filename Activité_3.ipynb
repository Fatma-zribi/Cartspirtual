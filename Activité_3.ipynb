{
  "nbformat": 4,
  "nbformat_minor": 0,
  "metadata": {
    "colab": {
      "name": "Activité 3",
      "provenance": [],
      "authorship_tag": "ABX9TyPvIFW3K68Jk3zJdiNY05i6",
      "include_colab_link": true
    },
    "kernelspec": {
      "name": "python3",
      "display_name": "Python 3"
    },
    "language_info": {
      "name": "python"
    }
  },
  "cells": [
    {
      "cell_type": "markdown",
      "metadata": {
        "id": "view-in-github",
        "colab_type": "text"
      },
      "source": [
        "<a href=\"https://colab.research.google.com/github/Fatma-zribi/Cartspirtual/blob/master/Activit%C3%A9_3.ipynb\" target=\"_parent\"><img src=\"https://colab.research.google.com/assets/colab-badge.svg\" alt=\"Open In Colab\"/></a>"
      ]
    },
    {
      "cell_type": "code",
      "execution_count": 11,
      "metadata": {
        "colab": {
          "base_uri": "https://localhost:8080/",
          "height": 1000
        },
        "id": "QLDLS7p9JGUV",
        "outputId": "65075f12-b84b-42d1-e5a1-38effc4856f1"
      },
      "outputs": [
        {
          "output_type": "stream",
          "name": "stdout",
          "text": [
            "(20, 6)\n",
            "        Cylindre  puis  long  larg  poids  vmax\n",
            "Modèle                                         \n",
            "M1             6     9     3     2   1677     5\n",
            "M2             3    12     4     1   1643     4\n",
            "M3             3    14     3     1   1939     6\n",
            "M4             7    26     5     2   1110     5\n",
            "M5             3    13     4     2   1367     6\n",
            "M6             7    14     3     1   1879     7\n",
            "M7             7    14     4     1   1459     5\n",
            "M8             4    15     3     1   1347     7\n",
            "M9             4    18     4     2   1045     5\n",
            "M10            6    22     3     1   1090     6\n",
            "M11            7    24     5     2   1145     4\n",
            "M12            7    11     4     1   1665     6\n",
            "M13            7    17     5     2   1615     7\n",
            "M14            5    25     5     2   1853     6\n",
            "M15            5    17     5     1   1935     5\n",
            "M16            7    25     4     2   1450     6\n",
            "M17            3    19     5     2   1083     6\n",
            "M18            5    28     5     1   1637     7\n",
            "M19            5     9     4     2   1881     7\n",
            "M20            6    18     5     1   1586     6\n",
            "[[ 0.42605779 -1.50142938 -1.45174713  1.          0.52556584 -0.86266219]\n",
            " [-1.54036278 -0.97151313 -0.18935832 -1.          0.41153113 -1.94098992]\n",
            " [-1.54036278 -0.61823563 -1.45174713 -1.          1.40430387  0.21566555]\n",
            " [ 1.08153132  1.50142938  1.07303049  1.         -1.37613059 -0.86266219]\n",
            " [-1.54036278 -0.79487438 -0.18935832  1.         -0.51416237  0.21566555]\n",
            " [ 1.08153132 -0.61823563 -1.45174713 -1.          1.20306616  1.29399328]\n",
            " [ 1.08153132 -0.61823563 -0.18935832 -1.         -0.20559787 -0.86266219]\n",
            " [-0.88488926 -0.44159688 -1.45174713 -1.         -0.58124161  1.29399328]\n",
            " [-0.88488926  0.08831938 -0.18935832  1.         -1.59413812 -0.86266219]\n",
            " [ 0.42605779  0.79487438 -1.45174713 -1.         -1.44320983  0.21566555]\n",
            " [ 1.08153132  1.14815188  1.07303049  1.         -1.25874192 -1.94098992]\n",
            " [ 1.08153132 -1.14815188 -0.18935832 -1.          0.4853183   0.21566555]\n",
            " [ 1.08153132 -0.08831938  1.07303049  1.          0.3176202   1.29399328]\n",
            " [-0.22941573  1.32479063  1.07303049  1.          1.11586314  0.21566555]\n",
            " [-0.22941573 -0.08831938  1.07303049 -1.          1.39088803 -0.86266219]\n",
            " [ 1.08153132  1.32479063 -0.18935832  1.         -0.23578353  0.21566555]\n",
            " [-1.54036278  0.26495813  1.07303049  1.         -1.46668757  0.21566555]\n",
            " [-0.22941573  1.85470688  1.07303049 -1.          0.39140736  1.29399328]\n",
            " [-0.22941573 -1.50142938 -0.18935832  1.          1.20977408  1.29399328]\n",
            " [ 0.42605779  0.08831938  1.07303049 -1.          0.2203553   0.21566555]]\n",
            "[ 2.63677968e-16  9.02056208e-18 -4.66293670e-16  0.00000000e+00\n",
            "  1.63757896e-16  1.52655666e-16]\n",
            "[1. 1. 1. 1. 1. 1.]\n"
          ]
        },
        {
          "output_type": "display_data",
          "data": {
            "text/plain": [
              "<Figure size 432x288 with 1 Axes>"
            ],
            "image/png": "[encoded data removed]"
          },
          "metadata": {
            "needs_background": "light"
          }
        }
      ],
      "source": [
        "#*******************librairie pandas\n",
        "import pandas\n",
        "#chargement de la première feuille de données\n",
        "X = pandas.read_excel(\"autos_pour_python.xlsx\",sheet_name=0,header=0,index_col=0)\n",
        "#*******************************dimension\n",
        "print(X.shape)\n",
        "#nombre d'observations\n",
        "n = X.shape[0]\n",
        "#nombre de variables\n",
        "p = X.shape[1]\n",
        "#affichage des données\n",
        "print(X)\n",
        "#***************************************************\n",
        "import sklearn\n",
        "#classe pour standardisation\n",
        "from sklearn.preprocessing import StandardScaler\n",
        "#instanciation\n",
        "sc = StandardScaler()\n",
        "#transformation–centrage-réduction\n",
        "Z = sc.fit_transform(X)\n",
        "print(Z)\n",
        "#*****************PARTIE : vérification-librairie numpy\n",
        "import numpy\n",
        "#moyenne\n",
        "print(numpy.mean(Z,axis=0))\n",
        "#écart -type\n",
        "print(numpy.std(Z,axis=0,ddof=0))\n",
        "\n",
        "\n",
        "#***********************************\n",
        "#librairies pour la CAH\n",
        "import pandas as pd\n",
        "W=pd.DataFrame(Z)\n",
        "#print(W)\n",
        "W.to_csv(\"autoscr.csv\",index=True)\n",
        "\n",
        "#***********************************\n",
        "import scipy\n",
        "import matplotlib\n",
        "from matplotlib import pyplot as plt\n",
        "from scipy.cluster.hierarchy import dendrogram, linkage\n",
        "#***********************générer la matrice des liens\n",
        "T = linkage(Z,method='ward',metric='euclidean')\n",
        "#*********************affichage du dendrogramme\n",
        "plt.title(\"CAH\")\n",
        "dendrogram(T,orientation='left',color_threshold=0)\n",
        "plt.show()\n"
      ]
    }
  ]
}